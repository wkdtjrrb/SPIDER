{
  "nbformat": 4,
  "nbformat_minor": 0,
  "metadata": {
    "colab": {
      "provenance": [],
      "authorship_tag": "ABX9TyPfon8tWSIbcwWZNgerVh7X",
      "include_colab_link": true
    },
    "kernelspec": {
      "name": "python3",
      "display_name": "Python 3"
    },
    "language_info": {
      "name": "python"
    }
  },
  "cells": [
    {
      "cell_type": "markdown",
      "metadata": {
        "id": "view-in-github",
        "colab_type": "text"
      },
      "source": [
        "<a href=\"https://colab.research.google.com/github/wkdtjrrb/SPIDER/blob/main/Titanic.ipynb\" target=\"_parent\"><img src=\"https://colab.research.google.com/assets/colab-badge.svg\" alt=\"Open In Colab\"/></a>"
      ]
    },
    {
      "cell_type": "code",
      "execution_count": null,
      "metadata": {
        "id": "SWEBF7q-ZOD6",
        "colab": {
          "base_uri": "https://localhost:8080/"
        },
        "outputId": "9f4a4fbd-3900-4d20-f5cb-7839d32cae16"
      },
      "outputs": [
        {
          "output_type": "stream",
          "name": "stdout",
          "text": [
            "Drive already mounted at /content/drive; to attempt to forcibly remount, call drive.mount(\"/content/drive\", force_remount=True).\n"
          ]
        }
      ],
      "source": [
        "from google.colab import drive\n",
        "drive.mount('/content/drive')"
      ]
    },
    {
      "cell_type": "code",
      "source": [
        "cd '/content/drive/MyDrive/TeamSpider/Titanic'"
      ],
      "metadata": {
        "colab": {
          "base_uri": "https://localhost:8080/"
        },
        "id": "Oa9RoDMW1IvN",
        "outputId": "7d47ee0c-fef5-4484-8b3f-f5c074039b95"
      },
      "execution_count": null,
      "outputs": [
        {
          "output_type": "stream",
          "name": "stdout",
          "text": [
            "/content/drive/MyDrive/TeamSpider/Titanic\n"
          ]
        }
      ]
    },
    {
      "cell_type": "code",
      "source": [
        "import numpy as np\n",
        "import pandas as pd\n",
        "import matplotlib.pyplot as plt\n",
        "import seaborn as sns\n",
        "from sklearn.model_selection import train_test_split\n",
        "from sklearn.preprocessing import StandardScaler\n",
        "from sklearn.linear_model import Perceptron\n",
        "from sklearn.linear_model import LinearRegression\n",
        "from collections import Counter\n",
        "from mpl_toolkits import mplot3d\n",
        "from sklearn.linear_model import LogisticRegression\n",
        "from sklearn.ensemble import RandomForestRegressor\n",
        "from sklearn.model_selection import GridSearchCV\n",
        "from sklearn.metrics import r2_score\n",
        "from mpl_toolkits.mplot3d import Axes3D\n",
        "from sklearn.neighbors import KNeighborsClassifier\n",
        "from sklearn import svm"
      ],
      "metadata": {
        "id": "xB0xZgR31VuF"
      },
      "execution_count": null,
      "outputs": []
    },
    {
      "cell_type": "code",
      "source": [
        "path = './train.csv'\n",
        "df = pd.read_csv(path)"
      ],
      "metadata": {
        "id": "VuqOEw9U1bFc"
      },
      "execution_count": null,
      "outputs": []
    },
    {
      "cell_type": "code",
      "source": [
        "path = './test.csv'\n",
        "test_df = pd.read_csv(path)"
      ],
      "metadata": {
        "id": "onuDuSg__T-V"
      },
      "execution_count": null,
      "outputs": []
    },
    {
      "cell_type": "code",
      "source": [
        "df.dtypes"
      ],
      "metadata": {
        "colab": {
          "base_uri": "https://localhost:8080/"
        },
        "id": "fN5qy0AO3A9j",
        "outputId": "5f289ceb-9cd7-40d5-8d35-13c3699ce476"
      },
      "execution_count": null,
      "outputs": [
        {
          "output_type": "execute_result",
          "data": {
            "text/plain": [
              "PassengerId      int64\n",
              "Survived         int64\n",
              "Pclass           int64\n",
              "Name            object\n",
              "Sex             object\n",
              "Age            float64\n",
              "SibSp            int64\n",
              "Parch            int64\n",
              "Ticket          object\n",
              "Fare           float64\n",
              "Cabin           object\n",
              "Embarked        object\n",
              "dtype: object"
            ]
          },
          "metadata": {},
          "execution_count": 777
        }
      ]
    },
    {
      "cell_type": "code",
      "source": [
        "ob_data = df.select_dtypes(include = 'object')\n",
        "num_data = df.select_dtypes(exclude = 'object')"
      ],
      "metadata": {
        "id": "i-Fmbp-kmVLM"
      },
      "execution_count": null,
      "outputs": []
    },
    {
      "cell_type": "markdown",
      "source": [
        "**데이터 전처리 및 상관관계 분석**\n",
        "\n",
        "1. 데이터 범주화\n",
        "\n",
        "1. 이상치 처리 ( 데이터를 살펴본 결과 이상치라고 할 만한 것이 없다고 판단 )\n",
        "\n",
        "2. 결측값 처리 ( 칼럼에 따라 다른 방식 적용 )\n",
        "\n",
        "3. 데이터 변환 ( categorical to numerical )\n",
        "\n",
        "4. 상관관계 분석 ( 데이터 변환 전 categorical data의 상관관계 분석 필요 )\n",
        "\n",
        "5. 데이터 스케일링"
      ],
      "metadata": {
        "id": "hdRiujG569gd"
      }
    },
    {
      "cell_type": "code",
      "source": [
        "df.isnull().sum()"
      ],
      "metadata": {
        "colab": {
          "base_uri": "https://localhost:8080/"
        },
        "id": "rBonvjkr4Yva",
        "outputId": "8a7d2f2f-4607-4aa8-9ef1-6bf278668097"
      },
      "execution_count": null,
      "outputs": [
        {
          "output_type": "execute_result",
          "data": {
            "text/plain": [
              "PassengerId      0\n",
              "Survived         0\n",
              "Pclass           0\n",
              "Name             0\n",
              "Sex              0\n",
              "Age            177\n",
              "SibSp            0\n",
              "Parch            0\n",
              "Ticket           0\n",
              "Fare             0\n",
              "Cabin          687\n",
              "Embarked         2\n",
              "dtype: int64"
            ]
          },
          "metadata": {},
          "execution_count": 779
        }
      ]
    },
    {
      "cell_type": "code",
      "source": [
        "test_df.isnull().sum()"
      ],
      "metadata": {
        "colab": {
          "base_uri": "https://localhost:8080/"
        },
        "id": "iqQAP4Iz_rja",
        "outputId": "efd57109-f278-4339-e2d0-8bebb8873841"
      },
      "execution_count": null,
      "outputs": [
        {
          "output_type": "execute_result",
          "data": {
            "text/plain": [
              "PassengerId      0\n",
              "Pclass           0\n",
              "Name             0\n",
              "Sex              0\n",
              "Age             86\n",
              "SibSp            0\n",
              "Parch            0\n",
              "Ticket           0\n",
              "Fare             1\n",
              "Cabin          327\n",
              "Embarked         0\n",
              "dtype: int64"
            ]
          },
          "metadata": {},
          "execution_count": 780
        }
      ]
    },
    {
      "cell_type": "markdown",
      "source": [
        "Age(나이) : 10대 별로 범주화\n",
        "\n",
        "Cabin(객실) : 결측값을 특정한 값으로 채울 수 없으므로 결측값이 아닌 데이터에 대해서만 분석을 진행\n",
        "\n",
        "Embarked(승선항구)\n",
        "\n",
        "Sibsp = 형제자매 수 / Parch = 부모자식 수\n",
        "\n",
        "Pclass = 승객 등급"
      ],
      "metadata": {
        "id": "0V1lwjP093i6"
      }
    },
    {
      "cell_type": "code",
      "source": [
        "#'Age'칼럼 처리\n",
        "def age_converter(age):\n",
        "    if age <= 9:\n",
        "        return 1\n",
        "    elif age <= 19:\n",
        "        return 10\n",
        "    elif age <= 29:\n",
        "        return 20\n",
        "    elif age <= 39:\n",
        "        return 30\n",
        "    elif age <= 49:\n",
        "        return 40\n",
        "    elif age <= 59:\n",
        "        return 50\n",
        "    elif age <= 69:\n",
        "        return 60\n",
        "    elif age <= 79:\n",
        "        return 70\n",
        "    elif age <= 89:\n",
        "        return 80\n",
        "    elif age <=99:\n",
        "        return 90\n",
        "    else:\n",
        "        return -1\n",
        "\n",
        "# apply 메서드를 사용하여 age column에 함수 적용\n",
        "df['Age'] = df['Age'].apply(age_converter)\n",
        "test_df['Age'] = test_df['Age'].apply(age_converter)"
      ],
      "metadata": {
        "id": "V2PhnyuN93PE"
      },
      "execution_count": null,
      "outputs": []
    },
    {
      "cell_type": "markdown",
      "source": [
        "Cabin 처리\n",
        "1. 채워지지 않은 것은 Unknown으로 대체\n",
        "2. 앞의 문자로 처리"
      ],
      "metadata": {
        "id": "HCASjKo7b68y"
      }
    },
    {
      "cell_type": "code",
      "source": [
        "df[\"Cabin\"].fillna('Unknown',inplace = True)\n",
        "test_df[\"Cabin\"].fillna('Unknown',inplace = True)"
      ],
      "metadata": {
        "id": "7TjLyllWuhm9"
      },
      "execution_count": null,
      "outputs": []
    },
    {
      "cell_type": "code",
      "source": [
        "#Cabin의 경우 앞 알파벳으로 구분\n",
        "df[\"Cabin\"] = df[\"Cabin\"].str[0]\n",
        "test_df[\"Cabin\"] = test_df[\"Cabin\"].str[0]"
      ],
      "metadata": {
        "id": "D48pDxSKhmmJ"
      },
      "execution_count": null,
      "outputs": []
    },
    {
      "cell_type": "code",
      "source": [
        "df['Cabin'].value_counts()"
      ],
      "metadata": {
        "colab": {
          "base_uri": "https://localhost:8080/"
        },
        "id": "7Lh1fQiOcMlT",
        "outputId": "4265a1a4-43b2-46b1-e34c-0efe7e9ff266"
      },
      "execution_count": null,
      "outputs": [
        {
          "output_type": "execute_result",
          "data": {
            "text/plain": [
              "U    687\n",
              "C     59\n",
              "B     47\n",
              "D     33\n",
              "E     32\n",
              "A     15\n",
              "F     13\n",
              "G      4\n",
              "T      1\n",
              "Name: Cabin, dtype: int64"
            ]
          },
          "metadata": {},
          "execution_count": 784
        }
      ]
    },
    {
      "cell_type": "markdown",
      "source": [
        "Ticket 처리"
      ],
      "metadata": {
        "id": "dAYV55Pzb_P1"
      }
    },
    {
      "cell_type": "code",
      "source": [
        "# pattern : 알파벳만 뽑아내기 위함\n",
        "pattern = r'([a-zA-Z]+)'\n",
        "\n",
        "# 패턴을 사용하여 문자열 추출 및 숫자로만 이루어진 cabin은 NUM으로 통일\n",
        "df['Ticket'] = df['Ticket'].str.extract(pattern, expand=False)\n",
        "df['Ticket'].fillna('NUM',inplace = True)\n",
        "test_df['Ticket'] = test_df['Ticket'].str.extract(pattern, expand=False)\n",
        "test_df['Ticket'].fillna('NUM',inplace = True)"
      ],
      "metadata": {
        "id": "LE4wagBFkdIJ"
      },
      "execution_count": null,
      "outputs": []
    },
    {
      "cell_type": "code",
      "source": [
        "'''\n",
        "ticket_counts = df[\"Ticket\"].value_counts()\n",
        "top_ticket = list(ticket_counts[1:9].index)\n",
        "\n",
        "# 상위 1~9개 범주 이외는 \"Other\"로 합침\n",
        "df[\"Ticket\"] = df[\"Ticket\"].apply(lambda x: x if x in top_ticket else \"Other\")\n",
        "sns.histplot(data=df, x=\"Ticket\", hue=\"Survived\", multiple=\"fill\", discrete=True,stat = 'probability', fill = True)\n",
        "'''"
      ],
      "metadata": {
        "colab": {
          "base_uri": "https://localhost:8080/",
          "height": 72
        },
        "id": "9ypdZ2VXfu15",
        "outputId": "e08520e3-326f-4fa5-b7fc-456615bea10a"
      },
      "execution_count": null,
      "outputs": [
        {
          "output_type": "execute_result",
          "data": {
            "text/plain": [
              "'\\nticket_counts = df[\"Ticket\"].value_counts()\\ntop_ticket = list(ticket_counts[1:9].index)\\n\\n# 상위 1~9개 범주 이외는 \"Other\"로 합침\\ndf[\"Ticket\"] = df[\"Ticket\"].apply(lambda x: x if x in top_ticket else \"Other\")\\nsns.histplot(data=df, x=\"Ticket\", hue=\"Survived\", multiple=\"fill\", discrete=True,stat = \\'probability\\', fill = True)\\n'"
            ],
            "application/vnd.google.colaboratory.intrinsic+json": {
              "type": "string"
            }
          },
          "metadata": {},
          "execution_count": 786
        }
      ]
    },
    {
      "cell_type": "markdown",
      "source": [
        "Name 처리"
      ],
      "metadata": {
        "id": "GvNme5L5cCNA"
      }
    },
    {
      "cell_type": "code",
      "source": [
        "df[\"Name\"] = df[\"Name\"].str.extract('([A-Za-z]+)\\.')\n",
        "test_df[\"Name\"] = test_df[\"Name\"].str.extract('([A-Za-z]+)\\.')"
      ],
      "metadata": {
        "id": "lHaAyCaHVPbW"
      },
      "execution_count": null,
      "outputs": []
    },
    {
      "cell_type": "code",
      "source": [
        "df['Name'].value_counts()"
      ],
      "metadata": {
        "colab": {
          "base_uri": "https://localhost:8080/"
        },
        "id": "4KQsxHlwaKBE",
        "outputId": "317e1ba0-87a9-42c5-b949-8676ada6bc12"
      },
      "execution_count": null,
      "outputs": [
        {
          "output_type": "execute_result",
          "data": {
            "text/plain": [
              "Mr          517\n",
              "Miss        182\n",
              "Mrs         125\n",
              "Master       40\n",
              "Dr            7\n",
              "Rev           6\n",
              "Mlle          2\n",
              "Major         2\n",
              "Col           2\n",
              "Countess      1\n",
              "Capt          1\n",
              "Ms            1\n",
              "Sir           1\n",
              "Lady          1\n",
              "Mme           1\n",
              "Don           1\n",
              "Jonkheer      1\n",
              "Name: Name, dtype: int64"
            ]
          },
          "metadata": {},
          "execution_count": 788
        }
      ]
    },
    {
      "cell_type": "code",
      "source": [
        "'''\n",
        "name_counts = df[\"Name\"].value_counts()\n",
        "top_names = list(name_counts[:4].index)\n",
        "\n",
        "# 상위 4개 범주 이외는 \"Other\"로 합침\n",
        "df[\"Name\"] = df[\"Name\"].apply(lambda x: x if x in top_names else \"Other\")\n",
        "\n",
        "#이름별 생존 비율의 확인\n",
        "sns.histplot(data=df, x=\"Name\", hue=\"Survived\", multiple=\"fill\", discrete=True,stat = 'probability', fill = True)\n",
        "'''"
      ],
      "metadata": {
        "colab": {
          "base_uri": "https://localhost:8080/",
          "height": 72
        },
        "id": "k6XSIebqVhlb",
        "outputId": "aabfa6b3-4cd4-4495-be5e-4060e258bec3"
      },
      "execution_count": null,
      "outputs": [
        {
          "output_type": "execute_result",
          "data": {
            "text/plain": [
              "'\\nname_counts = df[\"Name\"].value_counts()\\ntop_names = list(name_counts[:4].index)\\n\\n# 상위 4개 범주 이외는 \"Other\"로 합침\\ndf[\"Name\"] = df[\"Name\"].apply(lambda x: x if x in top_names else \"Other\")\\n\\n#이름별 생존 비율의 확인\\nsns.histplot(data=df, x=\"Name\", hue=\"Survived\", multiple=\"fill\", discrete=True,stat = \\'probability\\', fill = True)\\n'"
            ],
            "application/vnd.google.colaboratory.intrinsic+json": {
              "type": "string"
            }
          },
          "metadata": {},
          "execution_count": 789
        }
      ]
    },
    {
      "cell_type": "code",
      "source": [
        "'''\n",
        "sns.catplot(x='Survived', col='Embarked', kind='count', data=df)\n",
        "'''"
      ],
      "metadata": {
        "colab": {
          "base_uri": "https://localhost:8080/",
          "height": 35
        },
        "id": "TfbXqHEkJlOI",
        "outputId": "e63afa56-d4c6-4f57-9008-507369d8d810"
      },
      "execution_count": null,
      "outputs": [
        {
          "output_type": "execute_result",
          "data": {
            "text/plain": [
              "\"\\nsns.catplot(x='Survived', col='Embarked', kind='count', data=df)\\n\""
            ],
            "application/vnd.google.colaboratory.intrinsic+json": {
              "type": "string"
            }
          },
          "metadata": {},
          "execution_count": 790
        }
      ]
    },
    {
      "cell_type": "markdown",
      "source": [
        "**결측값 처리**\n",
        "\n",
        "결측값이 없는 칼럼들을 이용해 KNN기법으로 결측값 대체\n",
        "\n",
        "1. Embarked 결측값 처리\n",
        "\n",
        "-KNN에서 사용하는 칼럼 Pclass, Name, Sex, Age, Ticket, Cabin\n",
        "\n",
        "-첫번째 결측값 : 가장 빈도수가 높은 S를 선택\n",
        "\n",
        "-2번째 결측값 : Fare가 가까운 쪽인 C를 선택\n",
        "\n",
        "2. Age 결측값 처리\n",
        "\n",
        " - Age는 이름과 성별로만 선택"
      ],
      "metadata": {
        "id": "hsYkb3STuaLP"
      }
    },
    {
      "cell_type": "code",
      "source": [
        "df.isnull().sum()"
      ],
      "metadata": {
        "colab": {
          "base_uri": "https://localhost:8080/"
        },
        "id": "UqcQ6EyTvefn",
        "outputId": "8725d5cc-50a2-4309-acdf-b1001b74afba"
      },
      "execution_count": null,
      "outputs": [
        {
          "output_type": "execute_result",
          "data": {
            "text/plain": [
              "PassengerId    0\n",
              "Survived       0\n",
              "Pclass         0\n",
              "Name           0\n",
              "Sex            0\n",
              "Age            0\n",
              "SibSp          0\n",
              "Parch          0\n",
              "Ticket         0\n",
              "Fare           0\n",
              "Cabin          0\n",
              "Embarked       2\n",
              "dtype: int64"
            ]
          },
          "metadata": {},
          "execution_count": 791
        }
      ]
    },
    {
      "cell_type": "code",
      "source": [
        "test_df.isnull().sum()"
      ],
      "metadata": {
        "colab": {
          "base_uri": "https://localhost:8080/"
        },
        "id": "S57-F5hLATyO",
        "outputId": "1b2fcc86-9c5c-4d0f-f4c0-86a2d92c86ec"
      },
      "execution_count": null,
      "outputs": [
        {
          "output_type": "execute_result",
          "data": {
            "text/plain": [
              "PassengerId    0\n",
              "Pclass         0\n",
              "Name           0\n",
              "Sex            0\n",
              "Age            0\n",
              "SibSp          0\n",
              "Parch          0\n",
              "Ticket         0\n",
              "Fare           1\n",
              "Cabin          0\n",
              "Embarked       0\n",
              "dtype: int64"
            ]
          },
          "metadata": {},
          "execution_count": 792
        }
      ]
    },
    {
      "cell_type": "code",
      "source": [
        "missing_embarked = df[df['Embarked'].isnull()]\n",
        "\n",
        "# 결측값이 있는 모든 행에 대해 같은 다른 행 찾기\n",
        "matching_rows_list = []\n",
        "for index, row in missing_embarked.iterrows():\n",
        "    matching_rows = df[(df['PassengerId'] != row['PassengerId']) &\n",
        "                       (df['Ticket']==row['Ticket']) &\n",
        "                       (df['Name'] == row['Name']) &\n",
        "                       (df['Sex'] == row['Sex']) &\n",
        "                       (df['Age'] == row['Age']) &\n",
        "                       (df['Survived'] == row['Survived'])]\n",
        "    matching_rows_list.append(matching_rows)\n",
        "\n",
        "matching_rows_df = pd.concat(matching_rows_list)\n",
        "\n",
        "print(matching_rows_df)"
      ],
      "metadata": {
        "colab": {
          "base_uri": "https://localhost:8080/"
        },
        "id": "qaiZSP5wwF1C",
        "outputId": "73542d1e-041b-4eb6-e18f-d66138ac99cc"
      },
      "execution_count": null,
      "outputs": [
        {
          "output_type": "stream",
          "name": "stdout",
          "text": [
            "     PassengerId  Survived  Pclass  Name     Sex  Age  SibSp  Parch Ticket  \\\n",
            "79            80         1       3  Miss  female   30      0      0    NUM   \n",
            "123          124         1       2  Miss  female   30      0      0    NUM   \n",
            "215          216         1       1  Miss  female   30      1      0    NUM   \n",
            "218          219         1       1  Miss  female   30      0      0    NUM   \n",
            "257          258         1       1  Miss  female   30      0      0    NUM   \n",
            "318          319         1       1  Miss  female   30      0      2    NUM   \n",
            "322          323         1       2  Miss  female   30      0      0    NUM   \n",
            "387          388         1       2  Miss  female   30      0      0    NUM   \n",
            "412          413         1       1  Miss  female   30      1      0    NUM   \n",
            "520          521         1       1  Miss  female   30      0      0    NUM   \n",
            "576          577         1       2  Miss  female   30      0      0    NUM   \n",
            "747          748         1       2  Miss  female   30      0      0    NUM   \n",
            "842          843         1       1  Miss  female   30      0      0    NUM   \n",
            "366          367         1       1   Mrs  female   60      1      0    NUM   \n",
            "483          484         1       3   Mrs  female   60      0      0    NUM   \n",
            "\n",
            "         Fare Cabin Embarked  \n",
            "79    12.4750     U        S  \n",
            "123   13.0000     E        S  \n",
            "215  113.2750     D        C  \n",
            "218   76.2917     D        C  \n",
            "257   86.5000     B        S  \n",
            "318  164.8667     C        S  \n",
            "322   12.3500     U        Q  \n",
            "387   13.0000     U        S  \n",
            "412   90.0000     C        Q  \n",
            "520   93.5000     B        S  \n",
            "576   13.0000     U        S  \n",
            "747   13.0000     U        S  \n",
            "842   31.0000     U        C  \n",
            "366   75.2500     D        C  \n",
            "483    9.5875     U        S  \n"
          ]
        }
      ]
    },
    {
      "cell_type": "code",
      "source": [
        "null_idx_1 = df[df['Embarked'].isnull()].index[0]\n",
        "df.loc[null_idx_1, 'Embarked'] = 'S'\n",
        "null_idx_2 = df[df['Embarked'].isnull()].index[0]\n",
        "df.loc[null_idx_2,'Embarked'] = 'C'"
      ],
      "metadata": {
        "id": "XlCDHElTz5d0"
      },
      "execution_count": null,
      "outputs": []
    },
    {
      "cell_type": "code",
      "source": [
        "for i in range(len(df)):\n",
        "    if df.loc[i, 'Age'] == -1:\n",
        "        same_condition = ((df['Name'] == df.loc[i, 'Name']) &\n",
        "                         (df['Sex'] == df.loc[i, 'Sex']))\n",
        "        mode_age = df[same_condition]['Age'].mode()\n",
        "        if len(mode_age) > 0:\n",
        "            df.loc[i, 'Age'] = mode_age[0]"
      ],
      "metadata": {
        "id": "3vGMrWGj3cFl"
      },
      "execution_count": null,
      "outputs": []
    },
    {
      "cell_type": "code",
      "source": [
        "for i in range(len(test_df)):\n",
        "    if test_df.loc[i, 'Age'] == -1:\n",
        "        same_condition = ((df['Name'] == test_df.loc[i, 'Name']) &\n",
        "                         (df['Sex'] == test_df.loc[i, 'Sex']))\n",
        "        mode_age = df[same_condition]['Age'].mode()\n",
        "        if len(mode_age) > 0:\n",
        "            test_df.loc[i, 'Age'] = mode_age[0]"
      ],
      "metadata": {
        "id": "eJaZIN3qAZ6W"
      },
      "execution_count": null,
      "outputs": []
    },
    {
      "cell_type": "code",
      "source": [
        "df['Age'].value_counts()"
      ],
      "metadata": {
        "colab": {
          "base_uri": "https://localhost:8080/"
        },
        "id": "TD3p0vGN0Nrp",
        "outputId": "c8a26938-e6f1-44a7-dc88-5625d62def55"
      },
      "execution_count": null,
      "outputs": [
        {
          "output_type": "execute_result",
          "data": {
            "text/plain": [
              "20    375\n",
              "30    184\n",
              "10    102\n",
              "40     89\n",
              "1      66\n",
              "50     49\n",
              "60     19\n",
              "70      6\n",
              "80      1\n",
              "Name: Age, dtype: int64"
            ]
          },
          "metadata": {},
          "execution_count": 797
        }
      ]
    },
    {
      "cell_type": "code",
      "source": [
        "test_df['Age'].value_counts()"
      ],
      "metadata": {
        "colab": {
          "base_uri": "https://localhost:8080/"
        },
        "id": "80IeqBXsAirs",
        "outputId": "f77bba74-7be0-4cc1-caf6-5854833b441c"
      },
      "execution_count": null,
      "outputs": [
        {
          "output_type": "execute_result",
          "data": {
            "text/plain": [
              "20    196\n",
              "30     75\n",
              "40     46\n",
              "10     41\n",
              "1      24\n",
              "50     22\n",
              "60     13\n",
              "70      1\n",
              "Name: Age, dtype: int64"
            ]
          },
          "metadata": {},
          "execution_count": 798
        }
      ]
    },
    {
      "cell_type": "markdown",
      "source": [
        "**catergorical to numerical**\n"
      ],
      "metadata": {
        "id": "GJ0K-1UT9akT"
      }
    },
    {
      "cell_type": "code",
      "source": [
        "df.drop(['Ticket','Cabin','Name','PassengerId'],axis = 1,inplace = True)\n",
        "test_df.drop(['Ticket','Cabin','Name'],axis = 1,inplace = True)"
      ],
      "metadata": {
        "id": "6UAqD6Dh-iuT"
      },
      "execution_count": null,
      "outputs": []
    },
    {
      "cell_type": "code",
      "source": [
        "df['Embarked'].value_counts()"
      ],
      "metadata": {
        "colab": {
          "base_uri": "https://localhost:8080/"
        },
        "id": "xnPHcNUiDU3i",
        "outputId": "f0a9e28b-92b8-454a-9900-35284f7c8618"
      },
      "execution_count": null,
      "outputs": [
        {
          "output_type": "execute_result",
          "data": {
            "text/plain": [
              "S    645\n",
              "C    169\n",
              "Q     77\n",
              "Name: Embarked, dtype: int64"
            ]
          },
          "metadata": {},
          "execution_count": 800
        }
      ]
    },
    {
      "cell_type": "code",
      "source": [
        "df['Sex'] = df['Sex'].map({'male' : 0, 'female' : 1})\n",
        "df['Embarked'] = df['Embarked'].map({'S' : 0 , 'C' : 1, 'Q' : 3})\n",
        "test_df['Sex'] = test_df['Sex'].map({'male' : 0, 'female' : 1})\n",
        "test_df['Embarked'] = test_df['Embarked'].map({'S' : 0 , 'C' : 1, 'Q' : 3})"
      ],
      "metadata": {
        "id": "8qGuebv88Gt3"
      },
      "execution_count": null,
      "outputs": []
    },
    {
      "cell_type": "code",
      "source": [
        "df.head()"
      ],
      "metadata": {
        "id": "C3o_Zm3G8GI9",
        "colab": {
          "base_uri": "https://localhost:8080/",
          "height": 206
        },
        "outputId": "8457a338-df75-4114-8331-62a5717901c4"
      },
      "execution_count": null,
      "outputs": [
        {
          "output_type": "execute_result",
          "data": {
            "text/plain": [
              "   Survived  Pclass  Sex  Age  SibSp  Parch     Fare  Embarked\n",
              "0         0       3    0   20      1      0   7.2500         0\n",
              "1         1       1    1   30      1      0  71.2833         1\n",
              "2         1       3    1   20      0      0   7.9250         0\n",
              "3         1       1    1   30      1      0  53.1000         0\n",
              "4         0       3    0   30      0      0   8.0500         0"
            ],
            "text/html": [
              "\n",
              "  <div id=\"df-4c3ddb08-5049-4b32-8004-d534290c299e\">\n",
              "    <div class=\"colab-df-container\">\n",
              "      <div>\n",
              "<style scoped>\n",
              "    .dataframe tbody tr th:only-of-type {\n",
              "        vertical-align: middle;\n",
              "    }\n",
              "\n",
              "    .dataframe tbody tr th {\n",
              "        vertical-align: top;\n",
              "    }\n",
              "\n",
              "    .dataframe thead th {\n",
              "        text-align: right;\n",
              "    }\n",
              "</style>\n",
              "<table border=\"1\" class=\"dataframe\">\n",
              "  <thead>\n",
              "    <tr style=\"text-align: right;\">\n",
              "      <th></th>\n",
              "      <th>Survived</th>\n",
              "      <th>Pclass</th>\n",
              "      <th>Sex</th>\n",
              "      <th>Age</th>\n",
              "      <th>SibSp</th>\n",
              "      <th>Parch</th>\n",
              "      <th>Fare</th>\n",
              "      <th>Embarked</th>\n",
              "    </tr>\n",
              "  </thead>\n",
              "  <tbody>\n",
              "    <tr>\n",
              "      <th>0</th>\n",
              "      <td>0</td>\n",
              "      <td>3</td>\n",
              "      <td>0</td>\n",
              "      <td>20</td>\n",
              "      <td>1</td>\n",
              "      <td>0</td>\n",
              "      <td>7.2500</td>\n",
              "      <td>0</td>\n",
              "    </tr>\n",
              "    <tr>\n",
              "      <th>1</th>\n",
              "      <td>1</td>\n",
              "      <td>1</td>\n",
              "      <td>1</td>\n",
              "      <td>30</td>\n",
              "      <td>1</td>\n",
              "      <td>0</td>\n",
              "      <td>71.2833</td>\n",
              "      <td>1</td>\n",
              "    </tr>\n",
              "    <tr>\n",
              "      <th>2</th>\n",
              "      <td>1</td>\n",
              "      <td>3</td>\n",
              "      <td>1</td>\n",
              "      <td>20</td>\n",
              "      <td>0</td>\n",
              "      <td>0</td>\n",
              "      <td>7.9250</td>\n",
              "      <td>0</td>\n",
              "    </tr>\n",
              "    <tr>\n",
              "      <th>3</th>\n",
              "      <td>1</td>\n",
              "      <td>1</td>\n",
              "      <td>1</td>\n",
              "      <td>30</td>\n",
              "      <td>1</td>\n",
              "      <td>0</td>\n",
              "      <td>53.1000</td>\n",
              "      <td>0</td>\n",
              "    </tr>\n",
              "    <tr>\n",
              "      <th>4</th>\n",
              "      <td>0</td>\n",
              "      <td>3</td>\n",
              "      <td>0</td>\n",
              "      <td>30</td>\n",
              "      <td>0</td>\n",
              "      <td>0</td>\n",
              "      <td>8.0500</td>\n",
              "      <td>0</td>\n",
              "    </tr>\n",
              "  </tbody>\n",
              "</table>\n",
              "</div>\n",
              "      <button class=\"colab-df-convert\" onclick=\"convertToInteractive('df-4c3ddb08-5049-4b32-8004-d534290c299e')\"\n",
              "              title=\"Convert this dataframe to an interactive table.\"\n",
              "              style=\"display:none;\">\n",
              "        \n",
              "  <svg xmlns=\"http://www.w3.org/2000/svg\" height=\"24px\"viewBox=\"0 0 24 24\"\n",
              "       width=\"24px\">\n",
              "    <path d=\"M0 0h24v24H0V0z\" fill=\"none\"/>\n",
              "    <path d=\"M18.56 5.44l.94 2.06.94-2.06 2.06-.94-2.06-.94-.94-2.06-.94 2.06-2.06.94zm-11 1L8.5 8.5l.94-2.06 2.06-.94-2.06-.94L8.5 2.5l-.94 2.06-2.06.94zm10 10l.94 2.06.94-2.06 2.06-.94-2.06-.94-.94-2.06-.94 2.06-2.06.94z\"/><path d=\"M17.41 7.96l-1.37-1.37c-.4-.4-.92-.59-1.43-.59-.52 0-1.04.2-1.43.59L10.3 9.45l-7.72 7.72c-.78.78-.78 2.05 0 2.83L4 21.41c.39.39.9.59 1.41.59.51 0 1.02-.2 1.41-.59l7.78-7.78 2.81-2.81c.8-.78.8-2.07 0-2.86zM5.41 20L4 18.59l7.72-7.72 1.47 1.35L5.41 20z\"/>\n",
              "  </svg>\n",
              "      </button>\n",
              "      \n",
              "  <style>\n",
              "    .colab-df-container {\n",
              "      display:flex;\n",
              "      flex-wrap:wrap;\n",
              "      gap: 12px;\n",
              "    }\n",
              "\n",
              "    .colab-df-convert {\n",
              "      background-color: #E8F0FE;\n",
              "      border: none;\n",
              "      border-radius: 50%;\n",
              "      cursor: pointer;\n",
              "      display: none;\n",
              "      fill: #1967D2;\n",
              "      height: 32px;\n",
              "      padding: 0 0 0 0;\n",
              "      width: 32px;\n",
              "    }\n",
              "\n",
              "    .colab-df-convert:hover {\n",
              "      background-color: #E2EBFA;\n",
              "      box-shadow: 0px 1px 2px rgba(60, 64, 67, 0.3), 0px 1px 3px 1px rgba(60, 64, 67, 0.15);\n",
              "      fill: #174EA6;\n",
              "    }\n",
              "\n",
              "    [theme=dark] .colab-df-convert {\n",
              "      background-color: #3B4455;\n",
              "      fill: #D2E3FC;\n",
              "    }\n",
              "\n",
              "    [theme=dark] .colab-df-convert:hover {\n",
              "      background-color: #434B5C;\n",
              "      box-shadow: 0px 1px 3px 1px rgba(0, 0, 0, 0.15);\n",
              "      filter: drop-shadow(0px 1px 2px rgba(0, 0, 0, 0.3));\n",
              "      fill: #FFFFFF;\n",
              "    }\n",
              "  </style>\n",
              "\n",
              "      <script>\n",
              "        const buttonEl =\n",
              "          document.querySelector('#df-4c3ddb08-5049-4b32-8004-d534290c299e button.colab-df-convert');\n",
              "        buttonEl.style.display =\n",
              "          google.colab.kernel.accessAllowed ? 'block' : 'none';\n",
              "\n",
              "        async function convertToInteractive(key) {\n",
              "          const element = document.querySelector('#df-4c3ddb08-5049-4b32-8004-d534290c299e');\n",
              "          const dataTable =\n",
              "            await google.colab.kernel.invokeFunction('convertToInteractive',\n",
              "                                                     [key], {});\n",
              "          if (!dataTable) return;\n",
              "\n",
              "          const docLinkHtml = 'Like what you see? Visit the ' +\n",
              "            '<a target=\"_blank\" href=https://colab.research.google.com/notebooks/data_table.ipynb>data table notebook</a>'\n",
              "            + ' to learn more about interactive tables.';\n",
              "          element.innerHTML = '';\n",
              "          dataTable['output_type'] = 'display_data';\n",
              "          await google.colab.output.renderOutput(dataTable, element);\n",
              "          const docLink = document.createElement('div');\n",
              "          docLink.innerHTML = docLinkHtml;\n",
              "          element.appendChild(docLink);\n",
              "        }\n",
              "      </script>\n",
              "    </div>\n",
              "  </div>\n",
              "  "
            ]
          },
          "metadata": {},
          "execution_count": 802
        }
      ]
    },
    {
      "cell_type": "code",
      "source": [
        "df.dtypes"
      ],
      "metadata": {
        "colab": {
          "base_uri": "https://localhost:8080/"
        },
        "id": "5w55QMGzDzAd",
        "outputId": "821e71d5-e231-4e53-e933-ec8404f5bfdc"
      },
      "execution_count": null,
      "outputs": [
        {
          "output_type": "execute_result",
          "data": {
            "text/plain": [
              "Survived      int64\n",
              "Pclass        int64\n",
              "Sex           int64\n",
              "Age           int64\n",
              "SibSp         int64\n",
              "Parch         int64\n",
              "Fare        float64\n",
              "Embarked      int64\n",
              "dtype: object"
            ]
          },
          "metadata": {},
          "execution_count": 803
        }
      ]
    },
    {
      "cell_type": "code",
      "source": [
        "mean = test_df['Fare'].mode()[0]\n",
        "test_df['Fare'].fillna(mean,inplace = True)"
      ],
      "metadata": {
        "id": "A6QUzqriKiXV"
      },
      "execution_count": null,
      "outputs": []
    },
    {
      "cell_type": "code",
      "source": [
        "# train data 준비\n",
        "X = df.drop('Survived',axis = 1)\n",
        "y = df['Survived']"
      ],
      "metadata": {
        "id": "1GvvxlL0pJJm"
      },
      "execution_count": null,
      "outputs": []
    },
    {
      "cell_type": "code",
      "source": [
        "# 학습 데이터와 테스트 데이터 분리\n",
        "X_train, X_test, y_train, y_test = train_test_split(X, y, test_size=0.3, random_state=0)\n",
        "\n",
        "#데이터 스케일링\n",
        "scaler = StandardScaler()\n",
        "\n",
        "X_train = scaler.fit_transform(X_train)\n",
        "X_test = scaler.transform(X_test)"
      ],
      "metadata": {
        "id": "tE9celO_p2VW"
      },
      "execution_count": null,
      "outputs": []
    },
    {
      "cell_type": "code",
      "source": [
        "#로지스틱 회귀\n",
        "clf = LogisticRegression(penalty = 'l2',solver = 'liblinear')\n",
        "clf.fit(X_train, y_train)\n",
        "score = clf.score(X_test, y_test)\n",
        "print('Logistic Regression Accuracy:', score)"
      ],
      "metadata": {
        "colab": {
          "base_uri": "https://localhost:8080/"
        },
        "id": "VALdJVcwHltf",
        "outputId": "f74b8ebb-4748-46b3-c4a0-25d5344b60cd"
      },
      "execution_count": null,
      "outputs": [
        {
          "output_type": "stream",
          "name": "stdout",
          "text": [
            "Logistic Regression Accuracy: 0.7985074626865671\n"
          ]
        }
      ]
    },
    {
      "cell_type": "code",
      "source": [
        "#KNN\n",
        "knn = KNeighborsClassifier(n_neighbors=7)\n",
        "knn.fit(X,y)\n",
        "score = knn.score(X_test, y_test)\n",
        "print('KNN Accuracy:', score)"
      ],
      "metadata": {
        "colab": {
          "base_uri": "https://localhost:8080/"
        },
        "id": "YeUE84tOHzfm",
        "outputId": "27554400-76a4-4c04-d9dc-ecb5a50fa4d6"
      },
      "execution_count": null,
      "outputs": [
        {
          "output_type": "stream",
          "name": "stdout",
          "text": [
            "KNN Accuracy: 0.7089552238805971\n"
          ]
        }
      ]
    },
    {
      "cell_type": "code",
      "source": [
        "#SVM\n",
        "svm_model = svm.SVC(kernel='rbf')\n",
        "svm_model.fit(X_train, y_train)\n",
        "score = svm_model.score(X_test, y_test)\n",
        "print('SVM Accuracy:', score)"
      ],
      "metadata": {
        "colab": {
          "base_uri": "https://localhost:8080/"
        },
        "id": "fAv23EaoIHuU",
        "outputId": "34df3f32-8c6f-4974-8c26-4a32978a3a85"
      },
      "execution_count": null,
      "outputs": [
        {
          "output_type": "stream",
          "name": "stdout",
          "text": [
            "SVM Accuracy: 0.8171641791044776\n"
          ]
        }
      ]
    },
    {
      "cell_type": "code",
      "source": [
        "#Random Forest\n",
        "rf_model = RandomForestRegressor(n_estimators=700,\n",
        "                               max_depth=9,\n",
        "                               min_samples_split=2,\n",
        "                               min_samples_leaf=1,max_features = 'auto')\n",
        "rf_model.fit(X_train,y_train)\n",
        "score = rf_model.score(X_test, y_test)\n",
        "print('Random Forest Accuracy:',score)"
      ],
      "metadata": {
        "colab": {
          "base_uri": "https://localhost:8080/"
        },
        "id": "z_kOSN5WIjcb",
        "outputId": "0834d26c-9aca-4fee-8536-6dffcc297fb1"
      },
      "execution_count": null,
      "outputs": [
        {
          "output_type": "stream",
          "name": "stdout",
          "text": [
            "Random Forest Accuracy: 0.48700582340094967\n"
          ]
        }
      ]
    },
    {
      "cell_type": "code",
      "source": [
        "Id_col = test_df['PassengerId']"
      ],
      "metadata": {
        "id": "uc08a3d7wfXQ"
      },
      "execution_count": null,
      "outputs": []
    },
    {
      "cell_type": "code",
      "source": [
        "test_df.drop(['PassengerId'],axis = 1,inplace = True)"
      ],
      "metadata": {
        "id": "XiHgZBUkJ34c"
      },
      "execution_count": null,
      "outputs": []
    },
    {
      "cell_type": "code",
      "source": [
        "test_pred = svm_model.predict(test_df)"
      ],
      "metadata": {
        "id": "x5g1JdLlwoqm"
      },
      "execution_count": null,
      "outputs": []
    },
    {
      "cell_type": "code",
      "source": [
        "test_pred_df = pd.DataFrame(test_pred,columns = ['Survived'])\n",
        "sub_df = pd.concat([Id_col,test_pred_df],axis = 1)"
      ],
      "metadata": {
        "id": "A1j546jXww0N"
      },
      "execution_count": null,
      "outputs": []
    },
    {
      "cell_type": "code",
      "source": [
        "sub_df.to_csv('sub_df3.csv',index = False)"
      ],
      "metadata": {
        "id": "91t-DiXWwyB-"
      },
      "execution_count": null,
      "outputs": []
    },
    {
      "cell_type": "markdown",
      "source": [
        "**1번째 제출 점수: 0.75598**\n",
        "\n",
        "**2번째 제출 점수: 0.76076**"
      ],
      "metadata": {
        "id": "nIVgEKAYxNUk"
      }
    },
    {
      "cell_type": "markdown",
      "source": [
        "**수정해야할 것**\n",
        "\n",
        "1. cross validation\n",
        "\n",
        "2. final train with full data\n",
        "\n",
        "3. filling missing value with recognizing the relation between age and others"
      ],
      "metadata": {
        "id": "9IsOPhjzzCUK"
      }
    }
  ]
}
