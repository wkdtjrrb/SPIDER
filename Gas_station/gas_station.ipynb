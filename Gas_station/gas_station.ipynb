{
  "cells": [
    {
      "cell_type": "markdown",
      "metadata": {
        "id": "view-in-github",
        "colab_type": "text"
      },
      "source": [
        "<a href=\"https://colab.research.google.com/github/wkdtjrrb/SPIDER/blob/main/projec.ipynb\" target=\"_parent\"><img src=\"https://colab.research.google.com/assets/colab-badge.svg\" alt=\"Open In Colab\"/></a>"
      ]
    },
    {
      "cell_type": "code",
      "source": [
        "from google.colab import drive\n",
        "drive.mount('/content/drive')"
      ],
      "metadata": {
        "colab": {
          "base_uri": "https://localhost:8080/"
        },
        "id": "vdBVvLKC47Zx",
        "outputId": "089795d1-fa13-4872-ddee-8af09f5172bb"
      },
      "id": "vdBVvLKC47Zx",
      "execution_count": 2,
      "outputs": [
        {
          "output_type": "stream",
          "name": "stdout",
          "text": [
            "Mounted at /content/drive\n"
          ]
        }
      ]
    },
    {
      "cell_type": "code",
      "source": [
        "cd '/content/drive/MyDrive/TeamSpider/Project'"
      ],
      "metadata": {
        "colab": {
          "base_uri": "https://localhost:8080/"
        },
        "id": "-meLNz0_5B3D",
        "outputId": "b142f60c-85ae-4b74-b175-d1e41f324914"
      },
      "id": "-meLNz0_5B3D",
      "execution_count": 3,
      "outputs": [
        {
          "output_type": "stream",
          "name": "stdout",
          "text": [
            "/content/drive/MyDrive/TeamSpider/Project\n"
          ]
        }
      ]
    },
    {
      "cell_type": "code",
      "source": [
        "path = './최종최종.csv'"
      ],
      "metadata": {
        "id": "PavNNv355LN9"
      },
      "id": "PavNNv355LN9",
      "execution_count": 4,
      "outputs": []
    },
    {
      "cell_type": "code",
      "execution_count": 5,
      "id": "5a4fb508",
      "metadata": {
        "id": "5a4fb508"
      },
      "outputs": [],
      "source": [
        "import pandas as pd\n",
        "import matplotlib.pyplot as plt\n",
        "import matplotlib.font_manager as fm\n",
        "import seaborn as sns\n",
        "import numpy as np\n",
        "from sklearn.metrics import accuracy_score, precision_score, recall_score\n",
        "from sklearn.ensemble import RandomForestClassifier\n",
        "from sklearn.linear_model import LogisticRegression\n",
        "from sklearn.model_selection import train_test_split\n",
        "from sklearn.metrics import accuracy_score\n",
        "from sklearn.model_selection import cross_val_score\n",
        "df = pd.read_csv(path)"
      ]
    },
    {
      "cell_type": "code",
      "source": [
        "df.isnull().sum()"
      ],
      "metadata": {
        "colab": {
          "base_uri": "https://localhost:8080/"
        },
        "id": "0UM42xWnVrtR",
        "outputId": "dfb37310-1e6f-4ee9-bd6b-c1a86d974501"
      },
      "id": "0UM42xWnVrtR",
      "execution_count": 6,
      "outputs": [
        {
          "output_type": "execute_result",
          "data": {
            "text/plain": [
              "상태                0\n",
              "주유소명              0\n",
              "주소                0\n",
              "도로 번호             0\n",
              "2021년 교통량(양방)     0\n",
              "2020년 교통량(양방)     0\n",
              "2019년 교통량(양방)     0\n",
              "2018년 교통량(양방)     0\n",
              "2017년 교통량(양방)    23\n",
              "휘발유_2020          7\n",
              "경유_2020           7\n",
              "휘발유_2021          7\n",
              "경유_2021           7\n",
              "실내등유 판매 여부        6\n",
              "고급휘발유 판매 여부       6\n",
              "셀프                6\n",
              "24시간              6\n",
              "세차장               6\n",
              "편의점               6\n",
              "경정비               6\n",
              "알뜰주유소             4\n",
              "토양안심주유소           0\n",
              "dtype: int64"
            ]
          },
          "metadata": {},
          "execution_count": 6
        }
      ]
    },
    {
      "cell_type": "code",
      "source": [
        "#주유소명 중복값 삭제\n",
        "df.drop_duplicates(subset=['주유소명'], inplace=True)\n",
        "#판매가가 없는 행 삭제\n",
        "to_remove = ['서강주유소','삼융주유소','(주)미래아스팔트신우주유소','SK네트웍스(주)삼성주유소','SK네트웍스(주)동우주유소']\n",
        "df = df[~df['주유소명'].isin(to_remove)]"
      ],
      "metadata": {
        "id": "SjjJQe7yWYah"
      },
      "id": "SjjJQe7yWYah",
      "execution_count": 7,
      "outputs": []
    },
    {
      "cell_type": "code",
      "source": [
        "df.isnull().sum()"
      ],
      "metadata": {
        "colab": {
          "base_uri": "https://localhost:8080/"
        },
        "id": "rZsaglCwXHYG",
        "outputId": "a4f46e44-7764-49aa-fec1-a8a20d4f9042"
      },
      "id": "rZsaglCwXHYG",
      "execution_count": 8,
      "outputs": [
        {
          "output_type": "execute_result",
          "data": {
            "text/plain": [
              "상태                0\n",
              "주유소명              0\n",
              "주소                0\n",
              "도로 번호             0\n",
              "2021년 교통량(양방)     0\n",
              "2020년 교통량(양방)     0\n",
              "2019년 교통량(양방)     0\n",
              "2018년 교통량(양방)     0\n",
              "2017년 교통량(양방)    21\n",
              "휘발유_2020          1\n",
              "경유_2020           1\n",
              "휘발유_2021          1\n",
              "경유_2021           1\n",
              "실내등유 판매 여부        0\n",
              "고급휘발유 판매 여부       0\n",
              "셀프                0\n",
              "24시간              0\n",
              "세차장               0\n",
              "편의점               0\n",
              "경정비               0\n",
              "알뜰주유소             0\n",
              "토양안심주유소           0\n",
              "dtype: int64"
            ]
          },
          "metadata": {},
          "execution_count": 8
        }
      ]
    },
    {
      "cell_type": "code",
      "source": [
        "df['상태'].value_counts()"
      ],
      "metadata": {
        "colab": {
          "base_uri": "https://localhost:8080/"
        },
        "id": "M3lGPCrxRVke",
        "outputId": "4cce33e3-a5e7-49b7-be18-aee96612c957"
      },
      "id": "M3lGPCrxRVke",
      "execution_count": 9,
      "outputs": [
        {
          "output_type": "execute_result",
          "data": {
            "text/plain": [
              "영업중    436\n",
              "폐업      36\n",
              "휴업      29\n",
              "Name: 상태, dtype: int64"
            ]
          },
          "metadata": {},
          "execution_count": 9
        }
      ]
    },
    {
      "cell_type": "code",
      "source": [
        "#교통량의 ,를 지우고 numerical type으로 변환\n",
        "df['2017년 교통량(양방)'] = df['2017년 교통량(양방)'].str.replace(',', '')\n",
        "df['2017년 교통량(양방)'] = pd.to_numeric(df['2017년 교통량(양방)'], errors='coerce').astype('Int64')\n",
        "df['2018년 교통량(양방)'] = df['2018년 교통량(양방)'].str.replace(',', '')\n",
        "df['2018년 교통량(양방)'] = pd.to_numeric(df['2018년 교통량(양방)'], errors='coerce').astype('Int64')\n",
        "df['2019년 교통량(양방)'] = df['2019년 교통량(양방)'].str.replace(',', '')\n",
        "df['2019년 교통량(양방)'] = pd.to_numeric(df['2019년 교통량(양방)'], errors='coerce').astype('Int64')\n",
        "df['2021년 교통량(양방)'] = df['2021년 교통량(양방)'].str.replace(',', '')\n",
        "df['2021년 교통량(양방)'] = pd.to_numeric(df['2021년 교통량(양방)'], errors='coerce').astype('Int64')\n",
        "df.dtypes"
      ],
      "metadata": {
        "id": "oQ8RJnRous_0",
        "colab": {
          "base_uri": "https://localhost:8080/"
        },
        "outputId": "e76a34da-4fb1-4fed-d03c-b9cc5864369c"
      },
      "id": "oQ8RJnRous_0",
      "execution_count": 10,
      "outputs": [
        {
          "output_type": "execute_result",
          "data": {
            "text/plain": [
              "상태                object\n",
              "주유소명              object\n",
              "주소                object\n",
              "도로 번호             object\n",
              "2021년 교통량(양방)      Int64\n",
              "2020년 교통량(양방)      int64\n",
              "2019년 교통량(양방)      Int64\n",
              "2018년 교통량(양방)      Int64\n",
              "2017년 교통량(양방)      Int64\n",
              "휘발유_2020         float64\n",
              "경유_2020          float64\n",
              "휘발유_2021         float64\n",
              "경유_2021          float64\n",
              "실내등유 판매 여부       float64\n",
              "고급휘발유 판매 여부      float64\n",
              "셀프                object\n",
              "24시간              object\n",
              "세차장               object\n",
              "편의점               object\n",
              "경정비               object\n",
              "알뜰주유소             object\n",
              "토양안심주유소           object\n",
              "dtype: object"
            ]
          },
          "metadata": {},
          "execution_count": 10
        }
      ]
    },
    {
      "cell_type": "code",
      "source": [
        "df.dtypes"
      ],
      "metadata": {
        "colab": {
          "base_uri": "https://localhost:8080/"
        },
        "id": "iPhqbBJK3ZAS",
        "outputId": "009acd0e-8b9a-444a-b15b-0fef2dbd4ef6"
      },
      "id": "iPhqbBJK3ZAS",
      "execution_count": 11,
      "outputs": [
        {
          "output_type": "execute_result",
          "data": {
            "text/plain": [
              "상태                object\n",
              "주유소명              object\n",
              "주소                object\n",
              "도로 번호             object\n",
              "2021년 교통량(양방)      Int64\n",
              "2020년 교통량(양방)      int64\n",
              "2019년 교통량(양방)      Int64\n",
              "2018년 교통량(양방)      Int64\n",
              "2017년 교통량(양방)      Int64\n",
              "휘발유_2020         float64\n",
              "경유_2020          float64\n",
              "휘발유_2021         float64\n",
              "경유_2021          float64\n",
              "실내등유 판매 여부       float64\n",
              "고급휘발유 판매 여부      float64\n",
              "셀프                object\n",
              "24시간              object\n",
              "세차장               object\n",
              "편의점               object\n",
              "경정비               object\n",
              "알뜰주유소             object\n",
              "토양안심주유소           object\n",
              "dtype: object"
            ]
          },
          "metadata": {},
          "execution_count": 11
        }
      ]
    },
    {
      "cell_type": "code",
      "source": [
        "#교통량 결측값 처리 : 같은 주소 = 같은 교통량\n",
        "df['주소'] = df['주소'].str.split().str[1:2].str.join(' ')\n",
        "df['2017년 교통량(양방)'] = df.groupby('주소')['2017년 교통량(양방)'].transform(lambda x: x.fillna(x.mean().round()))"
      ],
      "metadata": {
        "id": "yTnQwqy8rSlw"
      },
      "id": "yTnQwqy8rSlw",
      "execution_count": 12,
      "outputs": []
    },
    {
      "cell_type": "code",
      "source": [
        "df.columns"
      ],
      "metadata": {
        "colab": {
          "base_uri": "https://localhost:8080/"
        },
        "id": "H2BlNaz6RAfP",
        "outputId": "01e4e043-7d11-4355-a67d-ad8a3f6399ac"
      },
      "id": "H2BlNaz6RAfP",
      "execution_count": 13,
      "outputs": [
        {
          "output_type": "execute_result",
          "data": {
            "text/plain": [
              "Index(['상태', '주유소명', '주소', '도로 번호', '2021년 교통량(양방)', '2020년 교통량(양방)',\n",
              "       '2019년 교통량(양방)', '2018년 교통량(양방)', '2017년 교통량(양방)', '휘발유_2020',\n",
              "       '경유_2020', '휘발유_2021', '경유_2021', '실내등유 판매 여부', '고급휘발유 판매 여부', '셀프',\n",
              "       '24시간', '세차장', '편의점', '경정비', '알뜰주유소', '토양안심주유소'],\n",
              "      dtype='object')"
            ]
          },
          "metadata": {},
          "execution_count": 13
        }
      ]
    },
    {
      "cell_type": "code",
      "source": [
        "#결측값을 0으로 설정해둠(이후에 0인 데이터는 폐업이나 휴업으로 간주)\n",
        "df['휘발유_2020'].fillna(0,inplace = True)\n",
        "df['경유_2020'].fillna(0,inplace = True)\n",
        "df['휘발유_2021'].fillna(0,inplace = True)\n",
        "df['경유_2021'].fillna(0,inplace = True)"
      ],
      "metadata": {
        "id": "FRSQlv-NAQyM"
      },
      "id": "FRSQlv-NAQyM",
      "execution_count": 14,
      "outputs": []
    },
    {
      "cell_type": "code",
      "source": [
        "#영업중: 0 / 휴업,폐업 : 1\n",
        "df.loc[df['상태'] == '영업중', '상태'] = 0\n",
        "df.loc[df['상태'] ==  '휴업', '상태'] = 1\n",
        "df.loc[df['상태'] == '폐업', '상태'] = 1"
      ],
      "metadata": {
        "id": "AUg0Q7kjBRZg"
      },
      "id": "AUg0Q7kjBRZg",
      "execution_count": 15,
      "outputs": []
    },
    {
      "cell_type": "code",
      "source": [
        "df['상태'].value_counts()"
      ],
      "metadata": {
        "colab": {
          "base_uri": "https://localhost:8080/"
        },
        "id": "ErKir3o8H3vi",
        "outputId": "c7106037-aac1-4ec8-d926-6ad9157edb7a"
      },
      "id": "ErKir3o8H3vi",
      "execution_count": 16,
      "outputs": [
        {
          "output_type": "execute_result",
          "data": {
            "text/plain": [
              "0    436\n",
              "1     65\n",
              "Name: 상태, dtype: int64"
            ]
          },
          "metadata": {},
          "execution_count": 16
        }
      ]
    },
    {
      "cell_type": "code",
      "source": [
        "df.loc[df['주소'] == '강서로', '주소'] = '강서구'\n",
        "df.loc[df['주소'] == '중랑구상봉로', '주소'] = '중랑구'\n",
        "df.loc[df['주소'] == '성산로', '주소'] = '서대문구'\n",
        "df.loc[df['주소'] == '통일로', '주소'] = '서대문구'\n",
        "df.loc[df['주소'] == '모래내로', '주소'] = '서대문구'\n",
        "df.loc[df['주소'] == '세검정로', '주소'] = '서대문구'\n",
        "df.loc[df['주소'] == '연희로', '주소'] = '서대문구'\n",
        "address_dict = {\n",
        "    '강남구': 'Gangnam-gu',\n",
        "    '서초구': 'Seocho-gu',\n",
        "    '송파구': 'Songpa-gu',\n",
        "    '영등포구': 'Yeongdeungpo-gu',\n",
        "    '강서구': 'Gangseo-gu',\n",
        "    '양천구': 'Yangcheon-gu',\n",
        "    '성북구': 'Seongbuk-gu',\n",
        "    '동대문구': 'Dongdaemun-gu',\n",
        "    '구로구': 'Guro-gu',\n",
        "    '도봉구': 'Dobong-gu',\n",
        "    '중랑구': 'Jungnang-gu',\n",
        "    '광진구': 'Gwangjin-gu',\n",
        "    '성동구': 'Seongdong-gu',\n",
        "    '강동구': 'Gangdong-gu',\n",
        "    '은평구': 'Eunpyeong-gu',\n",
        "    '관악구': 'Gwanak-gu',\n",
        "    '금천구': 'Geumcheon-gu',\n",
        "    '노원구': 'Nowon-gu',\n",
        "    '마포구': 'Mapo-gu',\n",
        "    '서대문구': 'Seodaemun-gu',\n",
        "    '용산구': 'Yongsan-gu',\n",
        "    '강북구': 'Gangbuk-gu',\n",
        "    '중구': 'Jung-gu',\n",
        "    '동작구': 'Dongjak-gu',\n",
        "    '종로구': 'Jongno-gu'\n",
        "}\n",
        "\n",
        "df['주소'] = df['주소'].map(address_dict)\n",
        "df['주소'].value_counts()\n"
      ],
      "metadata": {
        "colab": {
          "base_uri": "https://localhost:8080/"
        },
        "id": "pK76eutbCM2x",
        "outputId": "de8794ab-a226-40c5-e43f-a0dab815507b"
      },
      "id": "pK76eutbCM2x",
      "execution_count": 17,
      "outputs": [
        {
          "output_type": "execute_result",
          "data": {
            "text/plain": [
              "Gangnam-gu         42\n",
              "Seocho-gu          37\n",
              "Songpa-gu          37\n",
              "Yeongdeungpo-gu    32\n",
              "Gangseo-gu         32\n",
              "Yangcheon-gu       26\n",
              "Seongbuk-gu        24\n",
              "Dongdaemun-gu      22\n",
              "Guro-gu            21\n",
              "Dobong-gu          18\n",
              "Jungnang-gu        18\n",
              "Gwangjin-gu        17\n",
              "Seongdong-gu       17\n",
              "Gangdong-gu        16\n",
              "Eunpyeong-gu       16\n",
              "Gwanak-gu          15\n",
              "Geumcheon-gu       15\n",
              "Nowon-gu           15\n",
              "Seodaemun-gu       14\n",
              "Yongsan-gu         13\n",
              "Mapo-gu            13\n",
              "Gangbuk-gu         12\n",
              "Jung-gu            10\n",
              "Dongjak-gu         10\n",
              "Jongno-gu           9\n",
              "Name: 주소, dtype: int64"
            ]
          },
          "metadata": {},
          "execution_count": 17
        }
      ]
    },
    {
      "cell_type": "code",
      "source": [
        "#구별 영업중 / 폐업,휴업 주유소 수\n",
        "counts = df.groupby('주소')['상태'].value_counts().unstack().fillna(0)\n",
        "counts.value_counts"
      ],
      "metadata": {
        "colab": {
          "base_uri": "https://localhost:8080/"
        },
        "id": "xqmM3VPKGerr",
        "outputId": "a0ca47d8-c024-4f5e-d238-94b5f6a1cffb"
      },
      "id": "xqmM3VPKGerr",
      "execution_count": 18,
      "outputs": [
        {
          "output_type": "execute_result",
          "data": {
            "text/plain": [
              "<bound method DataFrame.value_counts of 상태                  0    1\n",
              "주소                        \n",
              "Dobong-gu        15.0  3.0\n",
              "Dongdaemun-gu    18.0  4.0\n",
              "Dongjak-gu        9.0  1.0\n",
              "Eunpyeong-gu     16.0  0.0\n",
              "Gangbuk-gu       10.0  2.0\n",
              "Gangdong-gu      14.0  2.0\n",
              "Gangnam-gu       34.0  8.0\n",
              "Gangseo-gu       31.0  1.0\n",
              "Geumcheon-gu     11.0  4.0\n",
              "Guro-gu          18.0  3.0\n",
              "Gwanak-gu        13.0  2.0\n",
              "Gwangjin-gu      12.0  5.0\n",
              "Jongno-gu         8.0  1.0\n",
              "Jung-gu          10.0  0.0\n",
              "Jungnang-gu      14.0  4.0\n",
              "Mapo-gu          11.0  2.0\n",
              "Nowon-gu         14.0  1.0\n",
              "Seocho-gu        31.0  6.0\n",
              "Seodaemun-gu     14.0  0.0\n",
              "Seongbuk-gu      23.0  1.0\n",
              "Seongdong-gu     17.0  0.0\n",
              "Songpa-gu        32.0  5.0\n",
              "Yangcheon-gu     24.0  2.0\n",
              "Yeongdeungpo-gu  26.0  6.0\n",
              "Yongsan-gu       11.0  2.0>"
            ]
          },
          "metadata": {},
          "execution_count": 18
        }
      ]
    },
    {
      "cell_type": "code",
      "source": [
        "counts = df.groupby('주소')['상태'].value_counts().unstack().fillna(0)\n",
        "\n",
        "# 그래프 표시\n",
        "counts.plot(kind='bar', stacked=True)\n",
        "plt.xlabel('district')\n",
        "plt.ylabel('num')\n",
        "plt.title('state')\n",
        "plt.legend(title='state', loc='upper right')\n",
        "plt.show()"
      ],
      "metadata": {
        "colab": {
          "base_uri": "https://localhost:8080/",
          "height": 583
        },
        "id": "eT66V6AuKJlA",
        "outputId": "1d02b700-3b64-4b1d-9784-42e1bea368ca"
      },
      "id": "eT66V6AuKJlA",
      "execution_count": 19,
      "outputs": [
        {
          "output_type": "display_data",
          "data": {
            "text/plain": [
              "<Figure size 640x480 with 1 Axes>"
            ],
            "image/png": "[encoded data removed]"
          },
          "metadata": {}
        }
      ]
    },
    {
      "cell_type": "code",
      "source": [
        "#지역별 폐업,휴업 비율을 새로운 열 proportion으로 정의\n",
        "counts['proportion'] = counts[1] / (counts[0] + counts[1])\n",
        "df = df.merge(counts['proportion'], left_on='주소', right_index=True, how='left')\n",
        "# 그래프 표시\n",
        "counts['proportion'].plot(kind='bar')\n",
        "plt.xlabel('district')\n",
        "plt.ylabel('proportion')\n",
        "plt.title('#1 / #1 + #0')\n",
        "plt.show()"
      ],
      "metadata": {
        "colab": {
          "base_uri": "https://localhost:8080/",
          "height": 583
        },
        "id": "Uf8YKwpM42N5",
        "outputId": "25228f98-1966-43eb-e5a6-71f55ab6e9b7"
      },
      "id": "Uf8YKwpM42N5",
      "execution_count": 20,
      "outputs": [
        {
          "output_type": "display_data",
          "data": {
            "text/plain": [
              "<Figure size 640x480 with 1 Axes>"
            ],
            "image/png": "[encoded data removed]"
          },
          "metadata": {}
        }
      ]
    },
    {
      "cell_type": "code",
      "source": [
        "#교통량은 평균 교통량으로 계산하여 지역별로 비교\n",
        "#연도별 전체 교통량을 평균내서 새로운 열 traffic_mean으로 정의\n",
        "traffic_volume2017 = df.groupby('주소')['2017년 교통량(양방)'].mean()\n",
        "traffic_volume2018 = df.groupby('주소')['2018년 교통량(양방)'].mean()\n",
        "traffic_volume2019 = df.groupby('주소')['2019년 교통량(양방)'].mean()\n",
        "traffic_volume2020 = df.groupby('주소')['2020년 교통량(양방)'].mean()\n",
        "traffic_volume2021 = df.groupby('주소')['2021년 교통량(양방)'].mean()\n",
        "mean_traffic_volume = (traffic_volume2017 + traffic_volume2018 + traffic_volume2019 + traffic_volume2020 + traffic_volume2021) / 5\n",
        "mean_traffic_volume.name = 'traffic_mean'\n",
        "df = df.merge(mean_traffic_volume, left_on='주소', right_index=True, how='left')"
      ],
      "metadata": {
        "id": "PXBhf9olLeFb"
      },
      "id": "PXBhf9olLeFb",
      "execution_count": 21,
      "outputs": []
    },
    {
      "cell_type": "code",
      "source": [
        "#교통량 별 영업 / 휴업,폐업 확인\n",
        "merged_df = pd.concat([mean_traffic_volume, counts['proportion']], axis=1)\n",
        "\n",
        "# 상관관계 계산\n",
        "correlation = merged_df.corr()\n",
        "\n",
        "# 상관관계를 히트맵으로 시각화\n",
        "sns.heatmap(correlation, annot=True, cmap='coolwarm')"
      ],
      "metadata": {
        "id": "F_mbmpM2AtJb",
        "colab": {
          "base_uri": "https://localhost:8080/",
          "height": 453
        },
        "outputId": "8649f7bf-c50b-4818-ae99-d8e233d26523"
      },
      "id": "F_mbmpM2AtJb",
      "execution_count": 22,
      "outputs": [
        {
          "output_type": "execute_result",
          "data": {
            "text/plain": [
              "<Axes: >"
            ]
          },
          "metadata": {},
          "execution_count": 22
        },
        {
          "output_type": "display_data",
          "data": {
            "text/plain": [
              "<Figure size 640x480 with 2 Axes>"
            ],
            "image/png": "[encoded data removed]"
          },
          "metadata": {}
        }
      ]
    },
    {
      "cell_type": "code",
      "source": [
        "df.loc[df['셀프'] == 'Y', '셀프'] = '1'\n",
        "df.loc[df['셀프'] == 'N', '셀프'] = '0'\n",
        "\n",
        "df.loc[df['24시간'] == 'Y', '24시간'] = '1'\n",
        "df.loc[df['24시간'] == 'N', '24시간'] = '0'\n",
        "\n",
        "df.loc[df['세차장'] == 'Y', '세차장'] = '1'\n",
        "df.loc[df['세차장'] == 'N', '세차장'] = '0'\n",
        "\n",
        "df.loc[df['편의점'] == 'Y', '편의점'] = '1'\n",
        "df.loc[df['편의점'] == 'N', '편의점'] = '0'\n",
        "\n",
        "df.loc[df['경정비'] == 'Y', '경정비'] = '1'\n",
        "df.loc[df['경정비'] == 'N', '경정비'] = '0'\n",
        "\n",
        "df.loc[df['알뜰주유소'] == 'Y', '알뜰주유소'] = '1'\n",
        "df.loc[df['알뜰주유소'] == 'N', '알뜰주유소'] = '0'\n",
        "\n",
        "df.loc[df['토양안심주유소'] == 'Y', '토양안심주유소'] = '1'\n",
        "df.loc[df['토양안심주유소'] == 'N', '토양안심주유소'] = '0'"
      ],
      "metadata": {
        "id": "8ww3l8uX6pM7"
      },
      "id": "8ww3l8uX6pM7",
      "execution_count": 23,
      "outputs": []
    },
    {
      "cell_type": "code",
      "source": [
        "df['토양안심주유소'].value_counts()"
      ],
      "metadata": {
        "colab": {
          "base_uri": "https://localhost:8080/"
        },
        "id": "SyrhIZD_DvHm",
        "outputId": "e23fccf9-1718-46ce-9bca-5971e2fbfaec"
      },
      "id": "SyrhIZD_DvHm",
      "execution_count": 24,
      "outputs": [
        {
          "output_type": "execute_result",
          "data": {
            "text/plain": [
              "0    432\n",
              "1     69\n",
              "Name: 토양안심주유소, dtype: int64"
            ]
          },
          "metadata": {},
          "execution_count": 24
        }
      ]
    },
    {
      "cell_type": "code",
      "source": [
        "df['알뜰주유소'].value_counts()"
      ],
      "metadata": {
        "colab": {
          "base_uri": "https://localhost:8080/"
        },
        "id": "w2n9NbHhEFgm",
        "outputId": "df5b9cc4-eb9b-4a2b-b204-5c506e0f89f2"
      },
      "id": "w2n9NbHhEFgm",
      "execution_count": 25,
      "outputs": [
        {
          "output_type": "execute_result",
          "data": {
            "text/plain": [
              "0    490\n",
              "1     11\n",
              "Name: 알뜰주유소, dtype: int64"
            ]
          },
          "metadata": {},
          "execution_count": 25
        }
      ]
    },
    {
      "cell_type": "code",
      "source": [
        "#diff = (기름값) - (구별 평균 기름값)\n",
        "diesel_2021 = df[df['경유_2021']!=0].groupby('주소')['경유_2021'].mean()\n",
        "diesel_2021.name = 'diesel_2021'\n",
        "\n",
        "gasoline_2021 = df[df['휘발유_2021']!=0].groupby('주소')['휘발유_2021'].mean()\n",
        "gasoline_2021.name = 'gasoline_2021'\n",
        "\n",
        "diesel_2020 = df[df['경유_2020']!=0].groupby('주소')['경유_2020'].mean()\n",
        "diesel_2020.name = 'diesel_2020'\n",
        "\n",
        "gasoline_2020 = df[df['휘발유_2020']!=0].groupby('주소')['휘발유_2020'].mean()\n",
        "gasoline_2020.name = 'gasoline_2020'"
      ],
      "metadata": {
        "id": "-eoyff2HOG3W"
      },
      "id": "-eoyff2HOG3W",
      "execution_count": 26,
      "outputs": []
    },
    {
      "cell_type": "code",
      "source": [
        "diesel_diff = diesel_2021-diesel_2020\n",
        "diesel_diff"
      ],
      "metadata": {
        "colab": {
          "base_uri": "https://localhost:8080/"
        },
        "id": "UnEzWITD_h5U",
        "outputId": "a4798363-4b33-4b86-b8b8-f745adb815c2"
      },
      "id": "UnEzWITD_h5U",
      "execution_count": 27,
      "outputs": [
        {
          "output_type": "execute_result",
          "data": {
            "text/plain": [
              "주소\n",
              "Dobong-gu          196.710717\n",
              "Dongdaemun-gu      195.411728\n",
              "Dongjak-gu         177.837417\n",
              "Eunpyeong-gu       211.150722\n",
              "Gangbuk-gu         205.854008\n",
              "Gangdong-gu        208.291042\n",
              "Gangnam-gu         165.552677\n",
              "Gangseo-gu         209.825469\n",
              "Geumcheon-gu       197.820455\n",
              "Guro-gu            199.387351\n",
              "Gwanak-gu          174.952747\n",
              "Gwangjin-gu        196.975889\n",
              "Jongno-gu          125.163942\n",
              "Jung-gu            160.593000\n",
              "Jungnang-gu        202.944620\n",
              "Mapo-gu            144.036666\n",
              "Nowon-gu           186.204055\n",
              "Seocho-gu          152.135608\n",
              "Seodaemun-gu       184.142789\n",
              "Seongbuk-gu        223.059011\n",
              "Seongdong-gu       192.027451\n",
              "Songpa-gu          186.823768\n",
              "Yangcheon-gu       206.450952\n",
              "Yeongdeungpo-gu    157.359995\n",
              "Yongsan-gu         116.886218\n",
              "dtype: float64"
            ]
          },
          "metadata": {},
          "execution_count": 27
        }
      ]
    },
    {
      "cell_type": "code",
      "source": [
        "gasoline_diff = gasoline_2021 - gasoline_2020\n",
        "gasoline_diff"
      ],
      "metadata": {
        "colab": {
          "base_uri": "https://localhost:8080/"
        },
        "id": "SdLaGVwL_rLp",
        "outputId": "1c5caa75-355e-4830-baf9-a070d0a72e8b"
      },
      "id": "SdLaGVwL_rLp",
      "execution_count": 28,
      "outputs": [
        {
          "output_type": "execute_result",
          "data": {
            "text/plain": [
              "주소\n",
              "Dobong-gu          204.742083\n",
              "Dongdaemun-gu      201.706098\n",
              "Dongjak-gu         204.830917\n",
              "Eunpyeong-gu       217.962128\n",
              "Gangbuk-gu         212.370357\n",
              "Gangdong-gu        222.063438\n",
              "Gangnam-gu         193.334936\n",
              "Gangseo-gu         215.706068\n",
              "Geumcheon-gu       199.818313\n",
              "Guro-gu            202.530843\n",
              "Gwanak-gu          197.563985\n",
              "Gwangjin-gu        201.589391\n",
              "Jongno-gu          156.235238\n",
              "Jung-gu            159.277250\n",
              "Jungnang-gu        211.796759\n",
              "Mapo-gu            163.349263\n",
              "Nowon-gu           194.023722\n",
              "Seocho-gu          183.557473\n",
              "Seodaemun-gu       188.228529\n",
              "Seongbuk-gu        226.411267\n",
              "Seongdong-gu       205.485990\n",
              "Songpa-gu          201.102803\n",
              "Yangcheon-gu       211.521964\n",
              "Yeongdeungpo-gu    165.208923\n",
              "Yongsan-gu         133.033654\n",
              "dtype: float64"
            ]
          },
          "metadata": {},
          "execution_count": 28
        }
      ]
    },
    {
      "cell_type": "code",
      "source": [
        "counts = df.groupby('주소')['traffic_mean'].value_counts()\n",
        "counts.value_counts"
      ],
      "metadata": {
        "colab": {
          "base_uri": "https://localhost:8080/"
        },
        "id": "T4Ktu8ShN5t1",
        "outputId": "8deed698-82c1-4464-b507-6ecf33888076"
      },
      "id": "T4Ktu8ShN5t1",
      "execution_count": 29,
      "outputs": [
        {
          "output_type": "execute_result",
          "data": {
            "text/plain": [
              "<bound method IndexOpsMixin.value_counts of 주소               traffic_mean \n",
              "Dobong-gu        51094.6          18\n",
              "Dongdaemun-gu    99886.527273     22\n",
              "Dongjak-gu       99955.86         10\n",
              "Eunpyeong-gu     44913.65         16\n",
              "Gangbuk-gu       54377.583333     12\n",
              "Gangdong-gu      102698.425       16\n",
              "Gangnam-gu       83676.219048     42\n",
              "Gangseo-gu       82391.9          32\n",
              "Geumcheon-gu     76337.546667     15\n",
              "Guro-gu          56283.095238     21\n",
              "Gwanak-gu        56235.333333     15\n",
              "Gwangjin-gu      81426.788235     17\n",
              "Jongno-gu        47556.488889      9\n",
              "Jung-gu          56434.08         10\n",
              "Jungnang-gu      76260.044444     18\n",
              "Mapo-gu          122625.630769    13\n",
              "Nowon-gu         68423.813333     15\n",
              "Seocho-gu        93837.081081     37\n",
              "Seodaemun-gu     73948.057143     14\n",
              "Seongbuk-gu      75732.575        24\n",
              "Seongdong-gu     78997.870588     17\n",
              "Songpa-gu        82076.378378     37\n",
              "Yangcheon-gu     81352.338462     26\n",
              "Yeongdeungpo-gu  73407.96875      32\n",
              "Yongsan-gu       99658.076923     13\n",
              "Name: traffic_mean, dtype: int64>"
            ]
          },
          "metadata": {},
          "execution_count": 29
        }
      ]
    },
    {
      "cell_type": "code",
      "source": [
        "df['traffic_mean'].value_counts()"
      ],
      "metadata": {
        "colab": {
          "base_uri": "https://localhost:8080/"
        },
        "id": "2qkBxYu5OuY_",
        "outputId": "910f1f4e-6aff-4790-d1a4-ecc2a894ded1"
      },
      "id": "2qkBxYu5OuY_",
      "execution_count": 30,
      "outputs": [
        {
          "output_type": "execute_result",
          "data": {
            "text/plain": [
              "83676.219048     42\n",
              "93837.081081     37\n",
              "82076.378378     37\n",
              "73407.96875      32\n",
              "82391.9          32\n",
              "81352.338462     26\n",
              "75732.575        24\n",
              "99886.527273     22\n",
              "56283.095238     21\n",
              "51094.6          18\n",
              "76260.044444     18\n",
              "81426.788235     17\n",
              "78997.870588     17\n",
              "102698.425       16\n",
              "44913.65         16\n",
              "56235.333333     15\n",
              "76337.546667     15\n",
              "68423.813333     15\n",
              "73948.057143     14\n",
              "99658.076923     13\n",
              "122625.630769    13\n",
              "54377.583333     12\n",
              "56434.08         10\n",
              "99955.86         10\n",
              "47556.488889      9\n",
              "Name: traffic_mean, dtype: Int64"
            ]
          },
          "metadata": {},
          "execution_count": 30
        }
      ]
    },
    {
      "cell_type": "code",
      "source": [
        "df = df.merge(diesel_2021, on='주소', how='left')\n",
        "df['diesel_2021_diff'] = df['경유_2021'] - df['diesel_2021']\n",
        "\n",
        "df = df.merge(diesel_2020, on='주소', how='left')\n",
        "df['diesel_2020_diff'] = df['경유_2020'] - df['diesel_2020']\n",
        "\n",
        "df = df.merge(gasoline_2021, on='주소', how='left')\n",
        "df['gasoline_2021_diff'] = df['휘발유_2021'] - df['gasoline_2021']\n",
        "\n",
        "df = df.merge(gasoline_2020, on='주소', how='left')\n",
        "df['gasoline_2020_diff'] = df['휘발유_2021'] - df['gasoline_2020']"
      ],
      "metadata": {
        "id": "3C00lm8Vk-Th"
      },
      "id": "3C00lm8Vk-Th",
      "execution_count": 31,
      "outputs": []
    },
    {
      "cell_type": "code",
      "source": [
        "df['상태'] = df['상태'].astype(int)\n",
        "df['셀프'] = df['셀프'].astype(int)\n",
        "df['24시간'] = df['24시간'].astype(int)\n",
        "df['세차장'] = df['세차장'].astype(int)\n",
        "df['편의점'] = df['편의점'].astype(int)\n",
        "df['경정비'] = df['경정비'].astype(int)\n",
        "df['알뜰주유소'] = df['알뜰주유소'].astype(int)\n",
        "df['토양안심주유소'] = df['토양안심주유소'].astype(int)"
      ],
      "metadata": {
        "id": "v3VEtPWLWRjO"
      },
      "id": "v3VEtPWLWRjO",
      "execution_count": 32,
      "outputs": []
    },
    {
      "cell_type": "code",
      "source": [
        "df.drop('diesel_2020',axis = 1,inplace = True)\n",
        "df.drop('diesel_2021',axis = 1,inplace = True)\n",
        "df.drop('gasoline_2020',axis = 1,inplace = True)\n",
        "df.drop('gasoline_2021',axis = 1,inplace = True)"
      ],
      "metadata": {
        "id": "2rnsOgmWPrYD"
      },
      "id": "2rnsOgmWPrYD",
      "execution_count": 33,
      "outputs": []
    },
    {
      "cell_type": "code",
      "source": [
        "df.rename(columns={'상태':'condition','2021년 교통량(양방)':'traffic_2021','주유소명':'name','주소':'address','도로 번호':'road_num','2020년 교통량(양방)':'traffic_2020','2019년 교통량(양방)':'traffic_2019','2018년 교통량(양방)':'traffic_2018','2017년 교통량(양방)':'traffic_2017'},inplace = True)\n",
        "df.rename(columns={'경정비':'light_maintenance','알뜰주유소':'altteul','토양안심주유소':'toyang','세차장':'car_wash','편의점':'store','실내등유 판매 여부':'indoor_kerosene','고급휘발유 판매 여부':'premium_gasoline'},inplace = True)\n",
        "df.rename(columns={'경유_2020':'diesel_2020','경유_2021':'diesel_2021','휘발유_2020':'gasoline_2020','휘발유_2021':'gasoline_2021','24시간':'24hours','셀프':'self'},inplace=True)"
      ],
      "metadata": {
        "id": "Ihan_FBeOojB"
      },
      "id": "Ihan_FBeOojB",
      "execution_count": 34,
      "outputs": []
    },
    {
      "cell_type": "code",
      "source": [
        "df.drop('proportion',axis = 1,inplace = True)"
      ],
      "metadata": {
        "id": "js4f_1CXl5mi"
      },
      "id": "js4f_1CXl5mi",
      "execution_count": 35,
      "outputs": []
    },
    {
      "cell_type": "code",
      "source": [
        "df.columns"
      ],
      "metadata": {
        "id": "CYsgImwAqiQV",
        "colab": {
          "base_uri": "https://localhost:8080/"
        },
        "outputId": "7b98eed9-d6a0-45fb-f188-409a39cd9960"
      },
      "id": "CYsgImwAqiQV",
      "execution_count": 36,
      "outputs": [
        {
          "output_type": "execute_result",
          "data": {
            "text/plain": [
              "Index(['condition', 'name', 'address', 'road_num', 'traffic_2021',\n",
              "       'traffic_2020', 'traffic_2019', 'traffic_2018', 'traffic_2017',\n",
              "       'gasoline_2020', 'diesel_2020', 'gasoline_2021', 'diesel_2021',\n",
              "       'indoor_kerosene', 'premium_gasoline', 'self', '24hours', 'car_wash',\n",
              "       'store', 'light_maintenance', 'altteul', 'toyang', 'traffic_mean',\n",
              "       'diesel_2021_diff', 'diesel_2020_diff', 'gasoline_2021_diff',\n",
              "       'gasoline_2020_diff'],\n",
              "      dtype='object')"
            ]
          },
          "metadata": {},
          "execution_count": 36
        }
      ]
    },
    {
      "cell_type": "code",
      "source": [
        "correlation = df.corr()\n",
        "corr = correlation['condition'].abs().sort_values(ascending = False)\n",
        "corr"
      ],
      "metadata": {
        "id": "TF1FcdOxUdQS",
        "colab": {
          "base_uri": "https://localhost:8080/"
        },
        "outputId": "8a2e8ca4-c514-41c7-bad9-ac3e5bf7ef17"
      },
      "id": "TF1FcdOxUdQS",
      "execution_count": 37,
      "outputs": [
        {
          "output_type": "stream",
          "name": "stderr",
          "text": [
            "<ipython-input-37-e7ce823eb04d>:1: FutureWarning: The default value of numeric_only in DataFrame.corr is deprecated. In a future version, it will default to False. Select only valid columns or specify the value of numeric_only to silence this warning.\n",
            "  correlation = df.corr()\n"
          ]
        },
        {
          "output_type": "execute_result",
          "data": {
            "text/plain": [
              "condition             1.000000\n",
              "car_wash              0.479716\n",
              "light_maintenance     0.133369\n",
              "24hours               0.117796\n",
              "diesel_2020_diff      0.109384\n",
              "toyang                0.085361\n",
              "diesel_2020           0.080276\n",
              "gasoline_2020         0.077255\n",
              "store                 0.074507\n",
              "indoor_kerosene       0.068761\n",
              "gasoline_2020_diff    0.064836\n",
              "altteul               0.057851\n",
              "gasoline_2021_diff    0.056910\n",
              "self                  0.053349\n",
              "gasoline_2021         0.050745\n",
              "diesel_2021_diff      0.048586\n",
              "traffic_mean          0.047529\n",
              "diesel_2021           0.044774\n",
              "traffic_2021          0.023758\n",
              "traffic_2020          0.018398\n",
              "traffic_2019          0.013268\n",
              "premium_gasoline      0.012878\n",
              "traffic_2018          0.006938\n",
              "traffic_2017          0.005589\n",
              "Name: condition, dtype: float64"
            ]
          },
          "metadata": {},
          "execution_count": 37
        }
      ]
    },
    {
      "cell_type": "code",
      "source": [
        "from sklearn.model_selection import StratifiedKFold\n",
        "from sklearn.metrics import confusion_matrix\n"
      ],
      "metadata": {
        "id": "VbLZ5j2fDIf8"
      },
      "id": "VbLZ5j2fDIf8",
      "execution_count": 38,
      "outputs": []
    },
    {
      "cell_type": "code",
      "source": [
        "df.columns"
      ],
      "metadata": {
        "colab": {
          "base_uri": "https://localhost:8080/"
        },
        "id": "u2iIbM4_AUD1",
        "outputId": "6e8b301e-2ae8-425a-b69e-2244a12b5d08"
      },
      "id": "u2iIbM4_AUD1",
      "execution_count": 39,
      "outputs": [
        {
          "output_type": "execute_result",
          "data": {
            "text/plain": [
              "Index(['condition', 'name', 'address', 'road_num', 'traffic_2021',\n",
              "       'traffic_2020', 'traffic_2019', 'traffic_2018', 'traffic_2017',\n",
              "       'gasoline_2020', 'diesel_2020', 'gasoline_2021', 'diesel_2021',\n",
              "       'indoor_kerosene', 'premium_gasoline', 'self', '24hours', 'car_wash',\n",
              "       'store', 'light_maintenance', 'altteul', 'toyang', 'traffic_mean',\n",
              "       'diesel_2021_diff', 'diesel_2020_diff', 'gasoline_2021_diff',\n",
              "       'gasoline_2020_diff'],\n",
              "      dtype='object')"
            ]
          },
          "metadata": {},
          "execution_count": 39
        }
      ]
    },
    {
      "cell_type": "code",
      "source": [
        "X = df.drop({'condition','name','address','road_num','diesel_2021_diff','traffic_mean','diesel_2021','traffic_2021','traffic_2020','traffic_2019','premium_gasoline','traffic_2018','traffic_2017','gasoline_2021_diff','self'},axis = 1)\n",
        "y = df['condition']\n",
        "\n",
        "skf = StratifiedKFold(n_splits=5, shuffle=True, random_state=42)\n",
        "\n",
        "sensitivity_scores = []\n",
        "specificity_scores = []\n",
        "fold = 1\n",
        "for train_index, val_index in skf.split(X, y):\n",
        "    print(f\"Fold: {fold}\")\n",
        "    X_train, X_val = X.iloc[train_index], X.iloc[val_index]\n",
        "    y_train, y_val = y.iloc[train_index], y.iloc[val_index]\n",
        "\n",
        "    model = LogisticRegression(penalty='l2')\n",
        "\n",
        "    model.fit(X_train, y_train)\n",
        "\n",
        "    # 회귀계수 출력\n",
        "    coefficients = model.coef_\n",
        "    print(f\"Regression Coefficients: {coefficients}\\n\")\n",
        "\n",
        "    y_pred_proba = model.predict_proba(X_val)[:, 1]\n",
        "\n",
        "    # 임계값 조정\n",
        "    threshold = 0.1  # 임계값 설정\n",
        "\n",
        "    # 임계값을 기준으로 예측 클래스 결정\n",
        "    y_pred = (y_pred_proba >= threshold).astype(int)\n",
        "\n",
        "    # 오차 행렬 계산\n",
        "    tn, fp, fn, tp = confusion_matrix(y_val, y_pred).ravel()\n",
        "\n",
        "    # 민감도와 특이도 계산\n",
        "    sensitivity = tp / (tp + fn)\n",
        "    specificity = tn / (tn + fp)\n",
        "\n",
        "    sensitivity_scores.append(sensitivity)\n",
        "    specificity_scores.append(specificity)\n",
        "\n",
        "    accuracy = model.score(X_val, y_val)\n",
        "    print(f\"Accuracy: {accuracy}\\n\")\n",
        "\n",
        "    fold += 1\n",
        "mean_sensitivity = sum(sensitivity_scores) / len(sensitivity_scores)\n",
        "mean_specificity = sum(specificity_scores) / len(specificity_scores)\n",
        "\n",
        "print(f\"Mean Sensitivity: {mean_sensitivity}\")\n",
        "print(f\"Mean Specificity: {mean_specificity}\")\n"
      ],
      "metadata": {
        "id": "23-X3oT-oGOS",
        "colab": {
          "base_uri": "https://localhost:8080/"
        },
        "outputId": "e823071b-c34d-4504-af1f-52ecc6769e7d"
      },
      "id": "23-X3oT-oGOS",
      "execution_count": 40,
      "outputs": [
        {
          "output_type": "stream",
          "name": "stderr",
          "text": [
            "/usr/local/lib/python3.10/dist-packages/sklearn/linear_model/_logistic.py:458: ConvergenceWarning: lbfgs failed to converge (status=1):\n",
            "STOP: TOTAL NO. of ITERATIONS REACHED LIMIT.\n",
            "\n",
            "Increase the number of iterations (max_iter) or scale the data as shown in:\n",
            "    https://scikit-learn.org/stable/modules/preprocessing.html\n",
            "Please also refer to the documentation for alternative solver options:\n",
            "    https://scikit-learn.org/stable/modules/linear_model.html#logistic-regression\n",
            "  n_iter_i = _check_optimize_result(\n"
          ]
        },
        {
          "output_type": "stream",
          "name": "stdout",
          "text": [
            "Fold: 1\n",
            "Regression Coefficients: [[ 0.00813051 -0.01403093  0.00583646 -0.43094588 -0.03359407 -2.31404131\n",
            "  -0.29353632 -0.31767349 -0.35621309 -0.31507284  0.01903165 -0.0198408 ]]\n",
            "\n",
            "Accuracy: 0.8910891089108911\n",
            "\n",
            "Fold: 2\n",
            "Regression Coefficients: [[ 7.22311572e-04 -6.76559328e-03  6.03280364e-03 -3.53760717e-01\n",
            "   3.92347437e-02 -2.55647315e+00 -2.18168825e-01 -5.81779357e-01\n",
            "  -6.90935663e-02 -3.38586938e-01  1.37024370e-02 -1.30998421e-02]]\n",
            "\n",
            "Accuracy: 0.91\n",
            "\n",
            "Fold: 3\n",
            "Regression Coefficients: [[ 0.00814689 -0.00339981 -0.00402641 -0.40125039 -0.65173153 -2.26858834\n",
            "  -0.32779433 -0.64143638 -0.07855013 -0.276566    0.00524854 -0.00541002]]\n",
            "\n",
            "Accuracy: 0.85\n",
            "\n",
            "Fold: 4\n",
            "Regression Coefficients: [[ 0.01504177 -0.01198604 -0.00296523 -0.4674816  -0.58782648 -2.25636887\n",
            "  -0.25768638 -0.48964193 -0.09984025 -0.22094327  0.01036042 -0.01069944]]\n",
            "\n",
            "Accuracy: 0.88\n",
            "\n",
            "Fold: 5\n",
            "Regression Coefficients: [[ 0.00781466 -0.00430475 -0.00294483 -0.41253909 -0.27110204 -2.00838116\n",
            "  -0.19738807 -0.40830153 -0.12381993 -0.16966187  0.0074491  -0.00732033]]\n",
            "\n",
            "Accuracy: 0.9\n",
            "\n",
            "Mean Sensitivity: 0.7384615384615385\n",
            "Mean Specificity: 0.8027168234064787\n"
          ]
        },
        {
          "output_type": "stream",
          "name": "stderr",
          "text": [
            "/usr/local/lib/python3.10/dist-packages/sklearn/linear_model/_logistic.py:458: ConvergenceWarning: lbfgs failed to converge (status=1):\n",
            "STOP: TOTAL NO. of ITERATIONS REACHED LIMIT.\n",
            "\n",
            "Increase the number of iterations (max_iter) or scale the data as shown in:\n",
            "    https://scikit-learn.org/stable/modules/preprocessing.html\n",
            "Please also refer to the documentation for alternative solver options:\n",
            "    https://scikit-learn.org/stable/modules/linear_model.html#logistic-regression\n",
            "  n_iter_i = _check_optimize_result(\n"
          ]
        }
      ]
    },
    {
      "cell_type": "code",
      "source": [
        "model.fit(X,y)\n",
        "y_pred = model.predict(X)\n",
        "probabilities = model.predict_proba(X)\n",
        "\n",
        "indices_good = np.where((probabilities[:, 1] < 0.01))[0]\n",
        "indices_interest = np.where((probabilities[:, 1] >= 0.4) & (probabilities[:, 1] < 0.5))[0]\n",
        "indices_serious = np.where((probabilities[:, 1] >= 0.5) & (probabilities[:, 1] < 1))[0]\n",
        "name_good = df.loc[(df['condition'] == 0) & (df.index.isin(indices_good)), 'name']\n",
        "name_interest = df.loc[(df['condition'] == 0) & (df.index.isin(indices_interest)), 'name']\n",
        "name_serious = df.loc[(df['condition'] == 0) & (df.index.isin(indices_serious)), 'name']"
      ],
      "metadata": {
        "id": "p8TpGQKvvmzc"
      },
      "id": "p8TpGQKvvmzc",
      "execution_count": 41,
      "outputs": []
    },
    {
      "cell_type": "code",
      "source": [
        "name_good"
      ],
      "metadata": {
        "id": "NyYAyEzj7Igp",
        "colab": {
          "base_uri": "https://localhost:8080/"
        },
        "outputId": "76ee1463-a7a0-49e6-d89e-2df061371f80"
      },
      "id": "NyYAyEzj7Igp",
      "execution_count": 42,
      "outputs": [
        {
          "output_type": "execute_result",
          "data": {
            "text/plain": [
              "76     태건석유(주)양재최고주유소\n",
              "86        위례드림주유소(셀프)\n",
              "208             광성주유소\n",
              "Name: name, dtype: object"
            ]
          },
          "metadata": {},
          "execution_count": 42
        }
      ]
    },
    {
      "cell_type": "code",
      "source": [
        "name_interest"
      ],
      "metadata": {
        "id": "gUMN4035xck-",
        "colab": {
          "base_uri": "https://localhost:8080/"
        },
        "outputId": "848ec9f9-2936-493a-c0d6-c89556d39d0c"
      },
      "id": "gUMN4035xck-",
      "execution_count": 43,
      "outputs": [
        {
          "output_type": "execute_result",
          "data": {
            "text/plain": [
              "71                 구천면주유소\n",
              "79            거여셀프주유소(셀프)\n",
              "142               마곡대성주유소\n",
              "151         (주)중앙에너비스동교지점\n",
              "156         (주)안국에너지삼보주유소\n",
              "161                 마포주유소\n",
              "258         (주)서울에너지시민주유소\n",
              "279      현대오일뱅크(주)직영하계주유소\n",
              "286        sk삼미상사(주)서부주유소\n",
              "287      현대오일뱅크(주)직영연세주유소\n",
              "290          (주)가재울뉴타운주유소\n",
              "308        (주)한진김포공항제2주유소\n",
              "345             주식회사명보에너지\n",
              "381                 난곡주유소\n",
              "385    현대오일뱅크(주)직영관악셀프주유소\n",
              "Name: name, dtype: object"
            ]
          },
          "metadata": {},
          "execution_count": 43
        }
      ]
    },
    {
      "cell_type": "code",
      "source": [
        "name_serious"
      ],
      "metadata": {
        "id": "mXiYMQROAKE4",
        "colab": {
          "base_uri": "https://localhost:8080/"
        },
        "outputId": "d1547f48-e344-4b5b-a1ad-bc4c8b85d8b7"
      },
      "id": "mXiYMQROAKE4",
      "execution_count": 44,
      "outputs": [
        {
          "output_type": "execute_result",
          "data": {
            "text/plain": [
              "95                   크로바주유소\n",
              "191            대성석유(주)동호주유소\n",
              "327                   구로주유소\n",
              "329                   한일주유소\n",
              "440                   대교주유소\n",
              "468         (주)우남에너지문화사랑주유소\n",
              "495    현대오일뱅크(주)직영양천현대셀프주유소\n",
              "Name: name, dtype: object"
            ]
          },
          "metadata": {},
          "execution_count": 44
        }
      ]
    }
  ],
  "metadata": {
    "kernelspec": {
      "display_name": "Python 3 (ipykernel)",
      "language": "python",
      "name": "python3"
    },
    "language_info": {
      "codemirror_mode": {
        "name": "ipython",
        "version": 3
      },
      "file_extension": ".py",
      "mimetype": "text/x-python",
      "name": "python",
      "nbconvert_exporter": "python",
      "pygments_lexer": "ipython3",
      "version": "3.9.13"
    },
    "colab": {
      "provenance": [],
      "include_colab_link": true
    }
  },
  "nbformat": 4,
  "nbformat_minor": 5
}
